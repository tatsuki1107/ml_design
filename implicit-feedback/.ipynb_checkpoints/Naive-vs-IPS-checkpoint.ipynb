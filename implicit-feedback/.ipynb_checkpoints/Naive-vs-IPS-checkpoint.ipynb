{
 "cells": [
  {
   "cell_type": "markdown",
   "id": "0ecc6010-5691-41af-84d8-daa4866e127d",
   "metadata": {},
   "source": [
    "# Naive vs IPS"
   ]
  },
  {
   "cell_type": "code",
   "execution_count": 1,
   "id": "53e4d7c0-42e2-4165-97fe-0ee5b2f325ea",
   "metadata": {},
   "outputs": [
    {
     "name": "stderr",
     "output_type": "stream",
     "text": [
      "/root/.cache/pypoetry/virtualenvs/mldesign-9TtSrW0h-py3.8/lib/python3.8/site-packages/tqdm/auto.py:22: TqdmWarning: IProgress not found. Please update jupyter and ipywidgets. See https://ipywidgets.readthedocs.io/en/stable/user_install.html\n",
      "  from .autonotebook import tqdm as notebook_tqdm\n"
     ]
    },
    {
     "ename": "IndentationError",
     "evalue": "unindent does not match any outer indentation level (loss.py, line 28)",
     "output_type": "error",
     "traceback": [
      "Traceback \u001b[0;36m(most recent call last)\u001b[0m:\n",
      "\u001b[0m  File \u001b[1;32m~/.cache/pypoetry/virtualenvs/mldesign-9TtSrW0h-py3.8/lib/python3.8/site-packages/IPython/core/interactiveshell.py:3433\u001b[0m in \u001b[1;35mrun_code\u001b[0m\n    exec(code_obj, self.user_global_ns, self.user_ns)\u001b[0m\n",
      "\u001b[0m  Cell \u001b[1;32mIn [1], line 9\u001b[0m\n    from train import train_ranker\u001b[0m\n",
      "\u001b[0;36m  File \u001b[0;32m/app/implicit-feedback/train.py:7\u001b[0;36m\n\u001b[0;31m    from loss import listwise_loss\u001b[0;36m\n",
      "\u001b[0;36m  File \u001b[0;32m/app/implicit-feedback/loss.py:28\u001b[0;36m\u001b[0m\n\u001b[0;31m    if pscore is None:\u001b[0m\n\u001b[0m                      ^\u001b[0m\n\u001b[0;31mIndentationError\u001b[0m\u001b[0;31m:\u001b[0m unindent does not match any outer indentation level\n"
     ]
    }
   ],
   "source": [
    "import matplotlib.pyplot as plt\n",
    "plt.style.use('ggplot')\n",
    "import numpy as np\n",
    "import torch\n",
    "from torch.optim import Adam\n",
    "from pytorchltr.datasets import MSLR30K\n",
    "\n",
    "from model import MLPScoreFunc\n",
    "from train import train_ranker"
   ]
  },
  {
   "cell_type": "code",
   "execution_count": null,
   "id": "36858cf0-6006-4a28-87c8-7efcc533dfbc",
   "metadata": {},
   "outputs": [],
   "source": [
    "# 実験設定\n",
    "batch_size = 32\n",
    "hidden_layer_sizes = (10, 10)\n",
    "learning_rate = 0.0001\n",
    "n_epochs = 100"
   ]
  },
  {
   "cell_type": "code",
   "execution_count": null,
   "id": "22ef7786-3fa9-4784-b54a-7c3bd0f8205e",
   "metadata": {},
   "outputs": [],
   "source": [
    "train = MSLR30K(split=\"train\")\n",
    "test = MSLR30K(split=\"test\")"
   ]
  },
  {
   "cell_type": "markdown",
   "id": "07e44bbd-8b7d-401d-b882-425a38ed71bf",
   "metadata": {},
   "source": [
    "# Naive推定量に基づいた学習"
   ]
  },
  {
   "cell_type": "code",
   "execution_count": null,
   "id": "fa14dbc0-24af-441d-aad4-beaddf71940a",
   "metadata": {},
   "outputs": [],
   "source": [
    "torch.manual_seed(12345)\n",
    "score_fn = MLPScoreFunc(\n",
    "    input_size=train[0].features.shape[1],\n",
    "    hidden_layer_sizes=hidden_layer_sizes,\n",
    ")\n",
    "optimizer = Addam(score_fn.parameters(), lr=learning_rate)\n",
    "\n",
    "ndcg_score_list_naive = train_ranker(\n",
    "    score_fn=score_fn,\n",
    "    optimizer=optimizer,\n",
    "    estimator=\"naive\",\n",
    "    train=train,\n",
    "    test=test,\n",
    "    batch_size=batch_size,\n",
    "    pow_true=1.0,\n",
    "    n_epochs=n_epochs,\n",
    ")"
   ]
  },
  {
   "cell_type": "markdown",
   "id": "039f4dd0-f5fa-4ebf-b5e3-432b9a82cb07",
   "metadata": {},
   "source": [
    "# IPS推定量に基づいた学習"
   ]
  },
  {
   "cell_type": "code",
   "execution_count": null,
   "id": "4328b99a-1a44-4aa0-abe0-25685de224e8",
   "metadata": {},
   "outputs": [],
   "source": [
    "torch.manual_seed(12345)\n",
    "score_fn = MLPScoreFunc(\n",
    "    input_size=train[0].features.shape[1],\n",
    "    hidden_layer_sizes=hidden_layer_sizes,\n",
    ")\n",
    "optimizer = Addam(score_fn.parameters(), lr=learning_rate)\n",
    "\n",
    "ndcg_score_list_ips = train_ranker(\n",
    "    score_fn=score_fn,\n",
    "    optimizer=optimizer,\n",
    "    estimator=\"ips\",\n",
    "    train=train,\n",
    "    test=test,\n",
    "    batch_size=batch_size,\n",
    "    pow_true=1.0,\n",
    "    n_epochs=n_epochs,\n",
    ")"
   ]
  },
  {
   "cell_type": "markdown",
   "id": "fbc1115f-c162-4cb5-a2d5-879f5c32bf12",
   "metadata": {},
   "source": [
    "# 真の嗜好度合いに基づいた学習(explicit feedback)"
   ]
  },
  {
   "cell_type": "code",
   "execution_count": null,
   "id": "b8134f1a-d567-47f5-9dba-bb9ea795b912",
   "metadata": {},
   "outputs": [],
   "source": [
    "torch.manual_seed(12345)\n",
    "score_fn = MLPScoreFunc(\n",
    "    input_size=train[0].features.shape[1],\n",
    "    hidden_layer_sizes=hidden_layer_sizes,\n",
    ")\n",
    "optimizer = Addam(score_fn.parameters(), lr=learning_rate)\n",
    "\n",
    "ndcg_score_list_ideal = train_ranker(\n",
    "    score_fn=score_fn,\n",
    "    optimizer=optimizer,\n",
    "    estimator=\"ideal\",\n",
    "    train=train,\n",
    "    test=test,\n",
    "    batch_size=batch_size,\n",
    "    pow_true=1.0,\n",
    "    n_epochs=n_epochs,\n",
    ")"
   ]
  },
  {
   "cell_type": "code",
   "execution_count": null,
   "id": "ec5dda9f-4cc0-4858-98df-ac85dc9e3e44",
   "metadata": {},
   "outputs": [],
   "source": [
    "plt.subplots(1, figsize=(8,6))\n",
    "plt.plot(range(n_epochs), ndcg_score_list_naive, label=\"Naive\", linewidth=3, linestyle=\"dashed\")\n",
    "plt.plot(range(n_epochs), ndcg_score_list_ips, label=\"IPS\", linewidth=3, linestyle=\"dashdot\")\n",
    "plt.plot(range(n_epochs), ndcg_score_list_ideal, label=\"Ideal\", linewidth=3)\n",
    "\n",
    "plt.title(\"Test nDCG@10 Curve With Different Estimators (pow_true=1.0)\", fontdict=dict(size=15))\n",
    "plt.xlabel(\"Number of Epochs\", fontdict=dict(size=20))\n",
    "plt.ylabel(\"Test nDCG@10\", fontdict=dict(size=20))\n",
    "plt.tight_layout()\n",
    "plt.legend(loc=\"best\", fontsize=20)\n",
    "plt.show()\n"
   ]
  }
 ],
 "metadata": {
  "kernelspec": {
   "display_name": "Python 3 (ipykernel)",
   "language": "python",
   "name": "python3"
  },
  "language_info": {
   "codemirror_mode": {
    "name": "ipython",
    "version": 3
   },
   "file_extension": ".py",
   "mimetype": "text/x-python",
   "name": "python",
   "nbconvert_exporter": "python",
   "pygments_lexer": "ipython3",
   "version": "3.8.15"
  }
 },
 "nbformat": 4,
 "nbformat_minor": 5
}
