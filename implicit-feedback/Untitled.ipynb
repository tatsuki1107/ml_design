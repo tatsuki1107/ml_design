{
 "cells": [
  {
   "cell_type": "code",
   "execution_count": 1,
   "id": "58de5e4e-c3e2-402f-8c4e-282a725bec78",
   "metadata": {},
   "outputs": [
    {
     "name": "stderr",
     "output_type": "stream",
     "text": [
      "/root/.cache/pypoetry/virtualenvs/mldesign-9TtSrW0h-py3.8/lib/python3.8/site-packages/tqdm/auto.py:22: TqdmWarning: IProgress not found. Please update jupyter and ipywidgets. See https://ipywidgets.readthedocs.io/en/stable/user_install.html\n",
      "  from .autonotebook import tqdm as notebook_tqdm\n",
      "WARNING:root:dataset file(s) in '/root/.pytorchltr_datasets/MSLR30K' are missing or corrupt\n"
     ]
    }
   ],
   "source": [
    "from pytorchltr.datasets import MSLR30K\n",
    "\n",
    "train = MSLR30K(split=\"train\")\n",
    "test = MSLR30K(split=\"test\")"
   ]
  },
  {
   "cell_type": "code",
   "execution_count": 2,
   "id": "8096526c-ceb7-42dd-9d59-46a20f8b87da",
   "metadata": {},
   "outputs": [
    {
     "data": {
      "text/plain": [
       "<pytorchltr.datasets.svmrank.mslr30k.MSLR30K at 0x4044176d00>"
      ]
     },
     "execution_count": 2,
     "metadata": {},
     "output_type": "execute_result"
    }
   ],
   "source": [
    "train"
   ]
  },
  {
   "cell_type": "code",
   "execution_count": null,
   "id": "36858cf0-6006-4a28-87c8-7efcc533dfbc",
   "metadata": {},
   "outputs": [],
   "source": []
  }
 ],
 "metadata": {
  "kernelspec": {
   "display_name": "Python 3 (ipykernel)",
   "language": "python",
   "name": "python3"
  },
  "language_info": {
   "codemirror_mode": {
    "name": "ipython",
    "version": 3
   },
   "file_extension": ".py",
   "mimetype": "text/x-python",
   "name": "python",
   "nbconvert_exporter": "python",
   "pygments_lexer": "ipython3",
   "version": "3.8.15"
  }
 },
 "nbformat": 4,
 "nbformat_minor": 5
}
