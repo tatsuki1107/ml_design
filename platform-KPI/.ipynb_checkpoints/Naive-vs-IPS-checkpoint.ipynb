{
 "cells": [
  {
   "cell_type": "markdown",
   "id": "23b29985-5b51-457a-bfae-e38f0319f36c",
   "metadata": {},
   "source": [
    "# Naive-vs-IPS"
   ]
  },
  {
   "cell_type": "code",
   "execution_count": null,
   "id": "a772356f-c34a-400a-b71e-0f0f6f6e4a52",
   "metadata": {},
   "outputs": [],
   "source": [
    "import matplotlib.pyplot as plt\n",
    "plt.style.use('ggplot')\n",
    "import torch\n",
    "from torch.optim import Adam\n",
    "from pytorchltr.datasets import MSLR30K\n",
    "from model import MLPScoreFunc\n",
    "from train import train_ranker"
   ]
  },
  {
   "cell_type": "code",
   "execution_count": null,
   "id": "3c51b6a3-390d-4663-bdee-7bb136e55e13",
   "metadata": {},
   "outputs": [],
   "source": [
    "# 実験設定\n",
    "batch_size = 32\n",
    "hidden_layer_sizes = (10, 10)\n",
    "learning_rate = 0.0001\n",
    "n_epochs = 200"
   ]
  },
  {
   "cell_type": "code",
   "execution_count": null,
   "id": "de611c24-ba27-4ff7-b35f-a4ed91416cf6",
   "metadata": {},
   "outputs": [],
   "source": [
    "train = MSLR30K(split=\"train\")\n",
    "test = MSLR30K(split=\"test\")"
   ]
  },
  {
   "cell_type": "markdown",
   "id": "c18a7192-3b4a-40e4-86fc-8353b66f684a",
   "metadata": {},
   "source": [
    "# Naive推定量"
   ]
  },
  {
   "cell_type": "code",
   "execution_count": null,
   "id": "94b09657-76e8-411c-b73b-40c733516f4a",
   "metadata": {},
   "outputs": [],
   "source": [
    "torch.manual_seed(12345)\n",
    "score_fn = MLPScoreFunc(\n",
    "    input_size=train[0].features.shape[1],\n",
    "    hidden_layer_sizes=hidden_layer_sizes\n",
    ")\n",
    "optimizer = Adam(score_fn.parameters(), lr=learning_rate)\n",
    "\n",
    "ndcg_score_list_naive = train_ranker(\n",
    "    score_fn=score_fn,\n",
    "    optimizer=optimizer,\n",
    "    estimator=\"naive\",\n",
    "    objective=\"via-rec\",\n",
    "    train=train, \n",
    "    test=test,\n",
    "    batch_size=batch_size,\n",
    "    n_epochs=n_epochs\n",
    ")"
   ]
  }
 ],
 "metadata": {
  "kernelspec": {
   "display_name": "Python 3 (ipykernel)",
   "language": "python",
   "name": "python3"
  },
  "language_info": {
   "codemirror_mode": {
    "name": "ipython",
    "version": 3
   },
   "file_extension": ".py",
   "mimetype": "text/x-python",
   "name": "python",
   "nbconvert_exporter": "python",
   "pygments_lexer": "ipython3",
   "version": "3.8.15"
  }
 },
 "nbformat": 4,
 "nbformat_minor": 5
}
