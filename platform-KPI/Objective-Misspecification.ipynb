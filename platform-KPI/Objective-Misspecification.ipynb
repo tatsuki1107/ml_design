{
 "cells": [
  {
   "cell_type": "markdown",
   "id": "a013b5dc-4ce2-47ef-8776-6f2b31681c77",
   "metadata": {},
   "source": [
    "# objective misspecification"
   ]
  },
  {
   "cell_type": "code",
   "execution_count": null,
   "id": "7203100a-c02b-44bc-9793-d5d701ee53eb",
   "metadata": {},
   "outputs": [],
   "source": [
    "import matplotlib.pyplot as plt\n",
    "plt.style.use('ggplot')\n",
    "import numpy as np\n",
    "import torch\n",
    "from torch.optim import Adam\n",
    "from pytorchltr.datasets import MSLR30K\n",
    "\n",
    "from model import MLPScoreFunc\n",
    "from train import train_ranker"
   ]
  },
  {
   "cell_type": "code",
   "execution_count": null,
   "id": "7ac421b3-705a-46ac-812d-a0d576c988c8",
   "metadata": {},
   "outputs": [],
   "source": [
    "# 実験設定\n",
    "batch_size = 32\n",
    "hidden_layer_sizes = (10,10)\n",
    "learning_rate = 0.0001\n",
    "n_epochs = 200"
   ]
  },
  {
   "cell_type": "code",
   "execution_count": null,
   "id": "c2488ed0-0cd1-4b83-85c7-c3a0d6424be0",
   "metadata": {},
   "outputs": [],
   "source": [
    "# MSLR30Kデータセットを読み込む（初回だけ時間がかかる）\n",
    "train = MSLR30K(split=\"train\")\n",
    "test = MSLR30K(split=\"test\")"
   ]
  },
  {
   "cell_type": "markdown",
   "id": "abc237ac-2377-409b-8eed-ddedf546a3bd",
   "metadata": {},
   "source": [
    "# Naive推定量"
   ]
  },
  {
   "cell_type": "code",
   "execution_count": null,
   "id": "73d1c97d-c9ac-43f0-8a11-a40fe74ae7e7",
   "metadata": {},
   "outputs": [],
   "source": [
    "torch.manual_seed(12345)\n",
    "score_fn = MLPScoreFunc(\n",
    "    input_size=train[0].features.shape[1],\n",
    "    hidden_layer_sizes=hidden_layer_sizes,\n",
    ")\n",
    "optimizer = Adam(score_fn.parameters(), lr=learning_rate)\n",
    "\n",
    "ndcg_score_list_naive = train_ranker(\n",
    "    score_fn=score_fn,\n",
    "    optimizer=optimizer, \n",
    "    estimator=\"naive\",\n",
    "    objective=\"platform\",\n",
    "    train=train,\n",
    "    test=test,\n",
    "    batch_size=batch_size,\n",
    "    n_epochs=n_epochs,\n",
    ")"
   ]
  },
  {
   "cell_type": "markdown",
   "id": "6139ca49-be10-43fd-be95-ae9168b311a0",
   "metadata": {},
   "source": [
    "# IPS推定量(推薦経由)"
   ]
  },
  {
   "cell_type": "code",
   "execution_count": null,
   "id": "7a68afd8-8d9e-4e28-b859-65e3b49c64fe",
   "metadata": {},
   "outputs": [],
   "source": [
    "torch.manual_seed(12345)\n",
    "score_fn = MLPScoreFunc(\n",
    "    input_size=train[0].features.shape[1],\n",
    "    hidden_layer_sizes=hidden_layer_sizes,\n",
    ")\n",
    "optimizer = Adam(score_fn.parameters(), lr=learning_rate)\n",
    "\n",
    "ndcg_score_list_ips = train_ranker(\n",
    "    score_fn=score_fn,\n",
    "    optimizer=optimizer,\n",
    "    estimator=\"ips-via-rec\",\n",
    "    objective=\"platform\",\n",
    "    train=train,\n",
    "    test=test,\n",
    "    batch_size=batch_size,\n",
    "    n_epochs=n_epochs,\n",
    ")"
   ]
  },
  {
   "cell_type": "markdown",
   "id": "64ab4b0e-cdb7-4b04-a736-2563b82dd02d",
   "metadata": {},
   "source": [
    "# IPS推定量(推薦&非推薦経由)"
   ]
  },
  {
   "cell_type": "code",
   "execution_count": null,
   "id": "88bb2f0c-a16c-447e-8379-dcc04b3a5eb0",
   "metadata": {},
   "outputs": [],
   "source": [
    "torch.manual_seed(12345)\n",
    "score_fn = MLPScoreFunc(\n",
    "    input_size=train[0].features.shape[1],\n",
    "    hidden_layer_sizes=hidden_layer_sizes,\n",
    ")\n",
    "optimizer = Adam(score_fn.parameters(), lr=learning_rate)\n",
    "\n",
    "ndcg_score_list_ips_platform = train_ranker(\n",
    "    score_fn=score_fn,\n",
    "    optimizer=optimizer,\n",
    "    estimator=\"ips-platform\",\n",
    "    objective=\"platform\",\n",
    "    train=train,\n",
    "    test=test,\n",
    "    batch_size=batch_size,\n",
    "    n_epochs=n_epochs,\n",
    ")"
   ]
  },
  {
   "cell_type": "code",
   "execution_count": null,
   "id": "bb348dcf-b368-41fb-bc14-0b03bd4fddcf",
   "metadata": {},
   "outputs": [],
   "source": [
    "plt.subplots(1, figsize=(8,6))\n",
    "plt.plot(range(n_epochs), ndcg_score_list_naive, label=\"Naive\", linewidth=3, linestyle=\"dashed\")\n",
    "plt.plot(range(n_epochs), ndcg_score_list_ips, label=\"IPS(via-rec)\", linewidth=3, linestyle=\"dashdot\")\n",
    "plt.plot(range(n_epochs), ndcg_score_list_ips_platform, label=\"IPS(platform)\", linewidth=3)\n",
    "   \n",
    "plt.title(\"Test nDCG@10 Curve With Different Estimators (platform)\", fontdict=dict(size=15))\n",
    "plt.xlabel(\"Number of Epochs\", fontdict=dict(size=20))\n",
    "plt.ylabel(\"Test nDCG@10\", fontdict=dict(size=20))\n",
    "plt.tight_layout()\n",
    "plt.legend(loc=\"best\", fontsize=18)\n",
    "plt.show()"
   ]
  }
 ],
 "metadata": {
  "kernelspec": {
   "display_name": "Python 3 (ipykernel)",
   "language": "python",
   "name": "python3"
  },
  "language_info": {
   "codemirror_mode": {
    "name": "ipython",
    "version": 3
   },
   "file_extension": ".py",
   "mimetype": "text/x-python",
   "name": "python",
   "nbconvert_exporter": "python",
   "pygments_lexer": "ipython3",
   "version": "3.8.15"
  }
 },
 "nbformat": 4,
 "nbformat_minor": 5
}
